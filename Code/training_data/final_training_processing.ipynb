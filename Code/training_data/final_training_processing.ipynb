{
 "cells": [
  {
   "cell_type": "code",
   "execution_count": 1,
   "metadata": {},
   "outputs": [],
   "source": [
    "import pandas as pd\n",
    "import requests\n",
    "import io\n",
    "from scipy.special import logit"
   ]
  },
  {
   "cell_type": "code",
   "execution_count": 2,
   "metadata": {},
   "outputs": [],
   "source": [
    "df = pd.read_csv('./2022-race-demographics.csv')\n",
    "data = df[['States', 'Race', 'Population']]\n",
    "data.columns = ['state', 'race', 'population']\n",
    "\n",
    "all_totals = data.groupby(['state'])[['population']]\\\n",
    "                    .sum()\\\n",
    "                    .rename(columns = {'population' : 'total'})\n",
    "data = data[data['race'] == 'Asian']\\\n",
    "            .set_index('state')\\\n",
    "            .drop(columns = 'race')\n",
    "data.loc[:, 'asian'] = data['population']/all_totals['total']\n",
    "data = data.drop(columns = 'population')\n",
    "\n",
    "state_df = pd.read_csv('../source_data/state_info.csv')\\\n",
    "             .set_index('state')\n",
    "\n",
    "asian_df = pd.concat([data, state_df], ignore_index = False, axis = 1)\\\n",
    "             .reset_index()\\\n",
    "             .drop(columns = 'state')\\\n",
    "             .rename(columns = {'state_po': 'state'})\\\n",
    "             [['state', 'asian']].set_index('state')"
   ]
  },
  {
   "cell_type": "code",
   "execution_count": 3,
   "metadata": {},
   "outputs": [],
   "source": [
    "df = pd.read_csv('../processed_data/2006-2022-education.csv')\\\n",
    "                [['year', 'state', 'bachelor_higher_pct']]\n",
    "\n",
    "bachelor_df = df[df['year'] == 2022]\\\n",
    "                .drop(columns = 'year')\\\n",
    "                .set_index('state')"
   ]
  },
  {
   "cell_type": "code",
   "execution_count": 4,
   "metadata": {},
   "outputs": [],
   "source": [
    "df = state_df[['state_po']]\\\n",
    "             .rename(columns = {'state_po':'state'})\\\n",
    "             .set_index('state')\n",
    "\n",
    "for state, _ in df.iterrows():\n",
    "    r = requests.get(f'https://fred.stlouisfed.org/graph/fredgraph.csv?id={state}URN')\n",
    "    temp_df = pd.read_csv(io.BytesIO(r.content))\n",
    "    temp_df = temp_df[temp_df['DATE'].str.contains('2024')]\n",
    "    df.loc[state, 'unemployment_pct'] = temp_df[f'{state}URN'].mean()\n",
    "\n",
    "df.loc[:,'unemployment_pct'] = df['unemployment_pct']/100\n",
    "\n",
    "prev_df = pd.read_csv('../processed_data/1976-2023-unemployment.csv')\\\n",
    "            [['year', 'state', 'unemployment_pct']]\\\n",
    "            .rename(columns = {'unemployment_pct': 'prev_unemployment_pct'})\n",
    "\n",
    "prev_df = prev_df[prev_df['year'] == 2023]\\\n",
    "                 .set_index('state')\\\n",
    "                 .drop(columns = 'year')\n",
    "\n",
    "df = pd.concat([df, prev_df], ignore_index = False, axis = 1)\n",
    "df.loc[:, 'unemployment_pct_1'] = df['unemployment_pct'] - df['prev_unemployment_pct']\n",
    "unemployment_df = df.drop(columns = 'prev_unemployment_pct')"
   ]
  },
  {
   "cell_type": "code",
   "execution_count": 5,
   "metadata": {},
   "outputs": [],
   "source": [
    "r = requests.get(f'https://ava.prri.org/ajx_map.statesdata?category=religion1&sc=1&year=2023&topic=religious')\n",
    "df = pd.DataFrame(r.json()['states'][1:]).drop(columns = 'sort')\n",
    "df.loc[:,'state'] = df['state'].str[3:]\n",
    "df.loc[:,'white_evangelist_pct'] = df['percent'].astype('float')/100\n",
    "evangelical_df = df.drop(columns = 'percent')\\\n",
    "                   .set_index('state')\n",
    "evangelical_df.loc['DC', 'white_evangelist_pct'] = 0.01"
   ]
  },
  {
   "cell_type": "code",
   "execution_count": 6,
   "metadata": {},
   "outputs": [],
   "source": [
    "df = pd.read_csv('../processed_data/1976-2020-president-two-party.csv')\\\n",
    "       [['year', 'state', 'rep_pct']]\\\n",
    "       .set_index('state')\n",
    "\n",
    "pres_df = df[df['year'] == 2020]\\\n",
    "            .drop(columns = 'year')\\\n",
    "            .rename(columns = {'rep_pct': 'result_pres_4'})\n",
    "\n",
    "pres_df.loc[:, 'result_pres_8'] = df[df['year'] == 2016]['rep_pct']\n",
    "pres_df.loc[:, 'result_pres_12'] = df[df['year'] == 2012]['rep_pct']"
   ]
  },
  {
   "cell_type": "code",
   "execution_count": 7,
   "metadata": {},
   "outputs": [],
   "source": [
    "df = pd.read_csv('../processed_data/1976-2022-house-two-party-vote-by-state.csv')\\\n",
    "       [['year', 'state', 'rep_pct']]\\\n",
    "       .set_index('state')\n",
    "\n",
    "house_df = df[df['year'] == 2022]\\\n",
    "             .drop(columns = 'year')\\\n",
    "             .rename(columns = {'rep_pct': 'result_house_2'})\n",
    "\n",
    "house_df.loc[:, 'result_house_8'] = df[df['year'] == 2016]['rep_pct']\n",
    "house_df.loc['DC', ['result_house_2', 'result_house_8']] = 0.5"
   ]
  },
  {
   "cell_type": "code",
   "execution_count": 8,
   "metadata": {},
   "outputs": [],
   "source": [
    "all_df = pd.concat([house_df, \n",
    "                    pres_df, \n",
    "                    evangelical_df, \n",
    "                    unemployment_df, \n",
    "                    asian_df,\n",
    "                    bachelor_df],\n",
    "                    \n",
    "                    ignore_index = False,\n",
    "                    axis = 1)\n",
    "\n",
    "# Data found here: https://docs.google.com/spreadsheets/d/1zLNAuRqPauss00HDz4XbTH2HqsCzMe0pR8QmD1K8jk8/edit?gid=0#gid=0\n",
    "# and here: https://www.dailykos.com/story/2012/11/19/1163009/-Daily-Kos-Elections-presidential-results-by-congressional-district-for-the-2012-2008-elections\n",
    "all_df.loc['ME-01', all_df.columns[all_df.columns.str.contains('result')]] = [0.37036410938180486,\n",
    "                                                                          0.4196957525215817,\n",
    "                                                                          (37.2)/(60 + 37.2),\n",
    "                                                                          (39.3)/(39.3 + 54.1),\n",
    "                                                                          (38.2)/(38.2 + 59.6)]\n",
    "\n",
    "all_df.loc['ME-02', all_df.columns[all_df.columns.str.contains('result')]] = [0.37036410938180486,\n",
    "                                                                          0.4958910178697673,\n",
    "                                                                          (51.6)/(51.6 + 45.5),\n",
    "                                                                          (51.4)/(51.4 + 41.1),\n",
    "                                                                          (44.4)/(53 + 44.4)]\n",
    "\n",
    "all_df.loc['NE-01', all_df.columns[all_df.columns.str.contains('result')]] = [0.5791051464163287,\n",
    "                                                                          0.6945263835923261,\n",
    "                                                                          (54.3)/(54.3 + 43.3),\n",
    "                                                                          (57.5)/(57.5 + 36.2),\n",
    "                                                                          (57.5)/(57.5 + 40.8)]\n",
    "\n",
    "all_df.loc['NE-02', all_df.columns[all_df.columns.str.contains('result')]] = [0.5133412311477651,\n",
    "                                                                          0.5062152812665968,\n",
    "                                                                          (45.8)/(45.8 + 52.2),\n",
    "                                                                          (48.2)/(48.2 + 46),\n",
    "                                                                          (52.8)/(52.8 + 45.7)]\n",
    "\n",
    "all_df.loc['NE-03', all_df.columns[all_df.columns.str.contains('result')]] = [0.8321447845193123,\n",
    "                                                                          0.9999,\n",
    "                                                                          (74.9)/(74.9 + 23.1),\n",
    "                                                                          (74.9)/(74.9 + 20),\n",
    "                                                                          (70.2)/(70.2 + 27.8)]\n",
    "\n",
    "all_df.loc[:, all_df.columns.drop('unemployment_pct_1')] = \\\n",
    "    logit(all_df[all_df.columns.drop('unemployment_pct_1')])\n",
    "\n",
    "all_df = all_df.sort_index()\n",
    "all_df.to_csv('./2024-data.csv')\n"
   ]
  },
  {
   "cell_type": "code",
   "execution_count": null,
   "metadata": {},
   "outputs": [],
   "source": []
  }
 ],
 "metadata": {
  "kernelspec": {
   "display_name": "sprvs",
   "language": "python",
   "name": "python3"
  },
  "language_info": {
   "codemirror_mode": {
    "name": "ipython",
    "version": 3
   },
   "file_extension": ".py",
   "mimetype": "text/x-python",
   "name": "python",
   "nbconvert_exporter": "python",
   "pygments_lexer": "ipython3",
   "version": "3.12.3"
  }
 },
 "nbformat": 4,
 "nbformat_minor": 2
}
