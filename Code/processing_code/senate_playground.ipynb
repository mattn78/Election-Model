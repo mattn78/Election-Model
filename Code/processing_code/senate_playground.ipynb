{
 "cells": [
  {
   "cell_type": "code",
   "execution_count": 1,
   "metadata": {},
   "outputs": [],
   "source": [
    "import pandas as pd"
   ]
  },
  {
   "cell_type": "code",
   "execution_count": 4,
   "metadata": {},
   "outputs": [],
   "source": [
    "senate_df = pd.read_csv('../source_data/1976-2020-senate.csv')\n",
    "senate_df = senate_df[(senate_df['state_po'] != 'GA') | (senate_df['year'] != 2020)]\n",
    "senate_df.loc[senate_df['year'] == 2021, 'year'] = 2020\n",
    "senate_df = senate_df[~senate_df['writein']]\n",
    "senate_df = senate_df[['year', 'state_po', 'candidate', 'party_simplified', 'candidatevotes']]\n",
    "senate_df = senate_df.rename(columns = {'state_po' : 'state', 'party_simplified' : 'party', 'candidatevotes':'votes'})\n",
    "\n",
    "senate_df.loc[(senate_df['candidate'] == 'BERNARD SANDERS') | (senate_df['candidate'] == 'BERNIE SANDERS'), 'party'] = 'DEMOCRAT'\n",
    "senate_df.loc[(senate_df['candidate'].str.contains('KING') & senate_df['candidate'].str.contains('ANGUS')), 'party'] = 'DEMOCRAT'\n",
    "senate_df.loc[senate_df['candidate'].str.contains('LIEBERMAN'), 'party'] = 'DEMOCRAT'\n",
    "\n",
    "senate_df.loc[(senate_df['candidate'] == 'HARRY F. BYRD, JR.'), 'party'] = 'REPUBLICAN'\n",
    "\n",
    "senate_df.loc[(senate_df['candidate'] == 'NANCY B. SPANNAUS'), ['party', 'votes']] = ['DEMOCRAT', 0]\n",
    "senate_df.loc[(senate_df['candidate'] == 'JED WHITTAKER'), 'party'] = 'DEMOCRAT'\n",
    "senate_df.loc[(senate_df['year'] == 2000) & (senate_df['state'] == 'AZ') & (senate_df['party'] == 'OTHER'), 'party'] = 'DEMOCRAT'\n",
    "\n",
    "senate_df.loc[(senate_df['candidate'] == 'MACK F. MATTINGLY'), 'party'] = 'REPUBLICAN'\n",
    "\n",
    "senate_df.loc[(senate_df['candidate'] == 'GEORGE COOK'), 'party'] = 'REPUBLICAN'\n",
    "senate_df.loc[(senate_df['candidate'] == 'STEVEN A. ROSILE') & (senate_df['year'] == 2002), 'party'] = 'DEMOCRAT'\n",
    "\n",
    "senate_df.loc[(senate_df['year'] == 2002) & (senate_df['state'] == 'MA') & (senate_df['party'] != 'DEMOCRAT'), 'votes'] = 0\n",
    "senate_df.loc[(senate_df['year'] == 2002) & (senate_df['state'] == 'MA') & (senate_df['party'] != 'DEMOCRAT'), 'party'] = 'REPUBLICAN'\n",
    "\n",
    "senate_df.loc[(senate_df['candidate'] == 'SHAWN O\\'HARA') & (senate_df['year'] == 2002), ['party', 'votes']] = ['DEMOCRAT', 0]\n",
    "senate_df.loc[(senate_df['candidate'] == 'STEVE OSBORN'), 'party'] = 'DEMOCRAT'\n",
    "\n",
    "senate_df.loc[(senate_df['candidate'] == 'REBEKAH KENNEDY'), ['party', 'votes']] = ['REPUBLICAN', 0]\n",
    "\n",
    "senate_df = senate_df[~((senate_df['candidate'] == 'CHARLIE CRIST') & (senate_df['year'] == 2010))]\n",
    "\n",
    "senate_df.loc[(senate_df['candidate'] == 'GREG ORMAN'), 'party'] = 'DEMOCRAT'\n",
    "\n",
    "senate_df.loc[(senate_df['candidate'] == 'JOE MILLER'), 'party'] = 'REPUBLICAN'\n",
    "\n",
    "senate_df.loc[(senate_df['candidate'] == 'MARGARET STOCK'), 'party'] = 'DEMOCRAT'\n",
    "\n",
    "senate_df.loc[(senate_df['candidate'] == 'RICKY DALE HARRINGTON JR.'), ['party', 'votes']] = ['DEMOCRAT', 0]\n",
    "\n",
    "senate_df.loc[(senate_df['candidate'] == 'CYNTHIA M. LUMMIS'), 'party'] = 'REPUBLICAN'\n",
    "senate_df.loc[(senate_df['candidate'] == 'MERAV BEN DAVID'), 'party'] = 'DEMOCRAT'"
   ]
  },
  {
   "cell_type": "code",
   "execution_count": 5,
   "metadata": {},
   "outputs": [],
   "source": [
    "senate_df = senate_df.groupby(['year', 'state', 'party'])[['votes']]\\\n",
    "    .sum()\\\n",
    "    .reset_index()\\\n",
    "    .groupby(['year', 'state'])[['party', 'votes']]\\\n",
    "    .apply(lambda x : x[x['party'].str.match('DEMOCRAT|REPUBLICAN')])\\\n",
    "    .reset_index().drop(columns = 'level_2')\n",
    "\n",
    "senate_df = senate_df.groupby(['year', 'state'])[['party', 'votes']]\\\n",
    "                .apply(lambda table: pd.Series({'dem' : table[table['party'] == 'DEMOCRAT'].reset_index()['votes'].get(0,0),\n",
    "                                            'rep' : table[table['party'] == 'REPUBLICAN'].reset_index()['votes'].get(0,0)}))\\\n",
    "                .reset_index()\n",
    "\n",
    "senate_df['dem_pct'] = senate_df['dem'].div(senate_df['dem'] + senate_df['rep'], axis = 0)\n",
    "senate_df['rep_pct'] = senate_df['rep'].div(senate_df['dem'] + senate_df['rep'], axis = 0)\n",
    "\n",
    "senate_df = senate_df[['year', 'state', 'dem_pct', 'rep_pct']]\n",
    "\n",
    "senate_df.to_csv('../processed_data/1976-2020-senate.csv', header = True, index = False)"
   ]
  },
  {
   "cell_type": "code",
   "execution_count": null,
   "metadata": {},
   "outputs": [],
   "source": []
  }
 ],
 "metadata": {
  "kernelspec": {
   "display_name": "sprvs",
   "language": "python",
   "name": "python3"
  },
  "language_info": {
   "codemirror_mode": {
    "name": "ipython",
    "version": 3
   },
   "file_extension": ".py",
   "mimetype": "text/x-python",
   "name": "python",
   "nbconvert_exporter": "python",
   "pygments_lexer": "ipython3",
   "version": "3.12.3"
  }
 },
 "nbformat": 4,
 "nbformat_minor": 2
}
