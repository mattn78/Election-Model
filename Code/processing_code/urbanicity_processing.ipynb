{
 "cells": [
  {
   "cell_type": "code",
   "execution_count": 1,
   "metadata": {},
   "outputs": [],
   "source": [
    "import pandas as pd"
   ]
  },
  {
   "cell_type": "code",
   "execution_count": 23,
   "metadata": {},
   "outputs": [],
   "source": [
    "df = pd.read_html('https://en.wikipedia.org/wiki/Urbanization_in_the_United_States')[0]\n",
    "df = df.rename(columns = {'State/Territory' : 'state', '2020[7]':'2020'})\n",
    "df = df.loc[5:55,['state','2020', '2010', '2000', '1990', '1980', '1970']]\n",
    "\n",
    "df['state'] = df['state'].str.replace(r'\\[.*\\]', '', regex = True)\\\n",
    "            .replace('Washington, D.C.', 'District of Columbia')\n",
    "state_info = pd.read_csv('./source_data/state_info.csv', index_col = 'state')\n",
    "\n",
    "df['state'] = df['state'].apply(lambda x : state_info['state_po'][x])\n",
    "df = df.melt(id_vars = 'state', var_name = 'year', value_name = 'urbanicity')\n",
    "df['urbanicity'] = df['urbanicity'].str[:-1].astype(float)/100\n",
    "\n",
    "df.to_csv('./processed_data/1970-2020-urbanicity.csv', index = False, header = True)"
   ]
  },
  {
   "cell_type": "code",
   "execution_count": null,
   "metadata": {},
   "outputs": [],
   "source": []
  }
 ],
 "metadata": {
  "kernelspec": {
   "display_name": "sprvs",
   "language": "python",
   "name": "python3"
  },
  "language_info": {
   "codemirror_mode": {
    "name": "ipython",
    "version": 3
   },
   "file_extension": ".py",
   "mimetype": "text/x-python",
   "name": "python",
   "nbconvert_exporter": "python",
   "pygments_lexer": "ipython3",
   "version": "3.12.3"
  }
 },
 "nbformat": 4,
 "nbformat_minor": 2
}
