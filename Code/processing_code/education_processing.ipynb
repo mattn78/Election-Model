{
 "cells": [
  {
   "cell_type": "code",
   "execution_count": 2,
   "metadata": {},
   "outputs": [],
   "source": [
    "import pandas as pd"
   ]
  },
  {
   "cell_type": "code",
   "execution_count": 3,
   "metadata": {},
   "outputs": [],
   "source": [
    "year = 2008\n",
    "dfs = []\n",
    "for year in range(2006,2023):\n",
    "    dfb = pd.read_html(f'https://fred.stlouisfed.org/release/tables?rid=330&eid=391444&od={year}-01-01')[0]\n",
    "    dfb.columns = dfb.columns.droplevel(0)\n",
    "    dfb = dfb[['Name',f'{year}']]\n",
    "    dfb.columns = ['state', f'bachelor_higher_pct']\n",
    "\n",
    "    dfh = pd.read_html(f'https://fred.stlouisfed.org/release/tables?rid=330&eid=394766&od={year}-01-01')[0]\n",
    "    dfh.columns = dfh.columns.droplevel(0)\n",
    "    dfh = dfh[['Name',f'{year}']]\n",
    "    dfh.columns = ['state', f'hs_higher_pct']\n",
    "\n",
    "    df = pd.merge(dfb, dfh, on = 'state')\n",
    "    df['year'] = year\n",
    "    dfs.append(df)\n",
    "\n",
    "    \n",
    "\n",
    "all_data = pd.concat(dfs, axis = 0, ignore_index= True)\n",
    "all_data = all_data[['year', 'state', 'hs_higher_pct', 'bachelor_higher_pct']]\n",
    "all_data['bachelor_higher_pct'] = all_data['bachelor_higher_pct']/100\n",
    "all_data['hs_higher_pct'] = all_data['hs_higher_pct']/100\n",
    "state_info = pd.read_csv('../source_data/state_info.csv', index_col = 'state')\n",
    "\n",
    "all_data['state'] = all_data['state'].apply(lambda name : state_info['state_po'][name])\n",
    "\n",
    "all_data.to_csv('../processed_data/2006-2022-education.csv', index = False, header = True)"
   ]
  },
  {
   "cell_type": "code",
   "execution_count": null,
   "metadata": {},
   "outputs": [],
   "source": []
  }
 ],
 "metadata": {
  "kernelspec": {
   "display_name": "sprvs",
   "language": "python",
   "name": "python3"
  },
  "language_info": {
   "codemirror_mode": {
    "name": "ipython",
    "version": 3
   },
   "file_extension": ".py",
   "mimetype": "text/x-python",
   "name": "python",
   "nbconvert_exporter": "python",
   "pygments_lexer": "ipython3",
   "version": "3.12.3"
  }
 },
 "nbformat": 4,
 "nbformat_minor": 2
}
