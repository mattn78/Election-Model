{
 "cells": [
  {
   "cell_type": "code",
   "execution_count": 2,
   "metadata": {},
   "outputs": [],
   "source": [
    "import pandas as pd\n",
    "import requests\n",
    "import io"
   ]
  },
  {
   "cell_type": "code",
   "execution_count": 17,
   "metadata": {},
   "outputs": [],
   "source": [
    "state_info = pd.read_csv('./source_data/state_info.csv', dtype = 'object')\n",
    "dfs = []\n",
    "\n",
    "for state in state_info['state_po']:\n",
    "    r = requests.get(f'https://fred.stlouisfed.org/graph/fredgraph.csv?id={state}RGSP')\n",
    "    df = pd.read_csv(io.BytesIO(r.content))\n",
    "    df['year'] = pd.to_datetime(df['DATE']).dt.year\n",
    "    df['gdp'] = df[f'{state}RGSP']\n",
    "    df['state'] = state\n",
    "    df = df[['year', 'state', 'gdp']]\n",
    "    df = df.sort_values(by = 'year', ascending = True)\n",
    "\n",
    "    df_1 = df.groupby('state')[['year', 'gdp']]\\\n",
    "            .apply(lambda table : table.set_index('year').pct_change())\\\n",
    "            .reset_index()\\\n",
    "            .rename(columns = {'gdp':'gdp_1'})\n",
    "\n",
    "    df_4 = df.groupby('state')[['year', 'gdp']]\\\n",
    "            .apply(lambda table : table.set_index('year').pct_change(4))\\\n",
    "            .reset_index()\\\n",
    "            .rename(columns = {'gdp':'gdp_4'})\n",
    "\n",
    "    df = pd.merge(left = df_1, right = df_4, how = 'inner', on = 'year')\n",
    "    df = df[['year', 'state_x', 'gdp_1', 'gdp_4']]\\\n",
    "                    .rename(columns = {'state_x':'state'})\n",
    "\n",
    "    dfs.append(df)\n",
    "\n",
    "all_data = pd.concat(dfs, axis = 0, ignore_index = True)\n",
    "all_data.to_csv('./processed_data/1997-2022-gdp.csv', index = False, header = True)"
   ]
  },
  {
   "cell_type": "code",
   "execution_count": null,
   "metadata": {},
   "outputs": [],
   "source": []
  }
 ],
 "metadata": {
  "kernelspec": {
   "display_name": "sprvs",
   "language": "python",
   "name": "python3"
  },
  "language_info": {
   "codemirror_mode": {
    "name": "ipython",
    "version": 3
   },
   "file_extension": ".py",
   "mimetype": "text/x-python",
   "name": "python",
   "nbconvert_exporter": "python",
   "pygments_lexer": "ipython3",
   "version": "3.12.3"
  }
 },
 "nbformat": 4,
 "nbformat_minor": 2
}
