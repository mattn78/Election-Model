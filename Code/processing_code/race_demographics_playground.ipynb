{
 "cells": [
  {
   "cell_type": "code",
   "execution_count": 2,
   "metadata": {},
   "outputs": [],
   "source": [
    "import pandas as pd"
   ]
  },
  {
   "cell_type": "code",
   "execution_count": 3,
   "metadata": {},
   "outputs": [],
   "source": [
    "df = pd.read_csv('./source_data/2010-2020-race-demographics.csv')"
   ]
  },
  {
   "cell_type": "code",
   "execution_count": 30,
   "metadata": {},
   "outputs": [],
   "source": [
    "data = df[['Yearly July 1st Estimates', 'States', 'Race', 'Ethnicity', 'Population']]\n",
    "data.columns = ['year', 'state', 'race', 'ethnicity', 'population']\n",
    "\n",
    "all_totals = data.groupby(['year', 'state'])[['population']]\\\n",
    "                    .sum()\\\n",
    "                    .rename(columns = {'population' : 'total'})\n",
    "\n",
    "race_totals = data.groupby(['year', 'state', 'race'])[['population']]\\\n",
    "                    .sum().reset_index()\\\n",
    "                    .pivot(index = ['year', 'state'], \n",
    "                           columns = 'race', \n",
    "                           values = 'population')\\\n",
    "                    .reset_index()\n",
    "\n",
    "race_totals.columns = ['year', 'state', 'american_indian', 'asian', 'black', 'more_than_one', 'pacific_islander', 'white']\n",
    "race_totals = race_totals.set_index(['year', 'state']).div(all_totals['total'], axis = 0)\n",
    "\n",
    "hispanic_totals = data[~data['ethnicity'].str.contains('Not')]\\\n",
    "                    .groupby(['year','state'])[['population']]\\\n",
    "                    .sum()\\\n",
    "                    .rename(columns = {'population' : 'hispanic'})\\\n",
    "                    .div(all_totals['total'], axis = 0)\n",
    "\n",
    "white_non_h = data[(data['race'] == 'White') & ~data['ethnicity'].str.contains('Not')]\\\n",
    "                     [['year', 'state', 'population']]\\\n",
    "                    .rename(columns = {'population' : 'white_non_hispanic'})\\\n",
    "                    .set_index(['year', 'state'])\\\n",
    "                    .div(all_totals['total'], axis = 0)\n",
    "                    \n",
    "\n",
    "all_data = pd.concat([race_totals, hispanic_totals, white_non_h], axis = 1, ignore_index = False)\\\n",
    "                    .reset_index()\n",
    "\n",
    "state_pos = ['AL', 'AK', 'AR', 'AZ', 'CA', 'CO', 'CT', 'DE', 'DC', 'FL', 'GA', 'HI', 'ID', 'IL', 'IN', 'IA', 'KS', 'KY', 'LA', 'ME', \n",
    "             'MD', 'MA', 'MI', 'MN', 'MS', 'MO', 'MT', 'NE', 'NV', 'NH', 'NJ', 'NM', 'NY', 'NC', 'ND', 'OH', 'OK', \n",
    "             'OR', 'PA', 'RI', 'SC', 'SD', 'TN', 'TX', 'UT', 'VT', 'VA', 'WA', 'WV', 'WI', 'WY']\n",
    "\n",
    "states = sorted(list(all_data['state'].unique()))\n",
    "\n",
    "all_data.loc[:, 'state'] = all_data['state'].apply(lambda x : state_pos[states.index(x)])\n",
    "\n",
    "all_data.to_csv(path_or_buf='./processed_data/2010-2020-race-demographics.csv', header= True, index= False)"
   ]
  }
 ],
 "metadata": {
  "kernelspec": {
   "display_name": "sprvs",
   "language": "python",
   "name": "python3"
  },
  "language_info": {
   "codemirror_mode": {
    "name": "ipython",
    "version": 3
   },
   "file_extension": ".py",
   "mimetype": "text/x-python",
   "name": "python",
   "nbconvert_exporter": "python",
   "pygments_lexer": "ipython3",
   "version": "3.12.3"
  }
 },
 "nbformat": 4,
 "nbformat_minor": 2
}
