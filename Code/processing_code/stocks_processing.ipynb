{
 "cells": [
  {
   "cell_type": "code",
   "execution_count": 1,
   "metadata": {},
   "outputs": [],
   "source": [
    "import pandas as pd\n",
    "import requests\n",
    "import io"
   ]
  },
  {
   "cell_type": "code",
   "execution_count": 2,
   "metadata": {},
   "outputs": [],
   "source": [
    "state_info = pd.read_csv('../source_data/state_info.csv', dtype = 'object')\n",
    "\n",
    "df_spy = pd.read_csv('../source_data/SPY.csv')\n",
    "\n",
    "df_spy = df_spy[['Date', 'Adj Close']]\n",
    "df_spy.columns = ['date', 'price']\n",
    "\n",
    "intervals = [1,3,6,12,48]\n",
    "for i in intervals:\n",
    "    df_spy[f'spy_{i}'] = df_spy['price'].pct_change(i)\n",
    "\n",
    "df_spy = df_spy[df_spy['date'].str.match(r'^\\d{4}-11-\\d{2}$')]\n",
    "df_spy['year'] = df_spy['date'].str[:4]\n",
    "\n",
    "df_spy = df_spy[['year'] + [f'spy_{i}' for i in intervals]]"
   ]
  },
  {
   "cell_type": "code",
   "execution_count": 3,
   "metadata": {},
   "outputs": [],
   "source": [
    "df_nasdaq = pd.read_csv('../source_data/NASDAQCOM.csv')\n",
    "df_nasdaq = df_nasdaq.sort_values(by = 'DATE')\n",
    "df_nasdaq['month'] = df_nasdaq['DATE'].str[0:-3]\n",
    "df_nasdaq = df_nasdaq.groupby('month')\\\n",
    "            .first()\\\n",
    "            .reset_index()\\\n",
    "            .sort_values(by = 'month')\n",
    "\n",
    "intervals = [1,3,6,12,48]\n",
    "for i in intervals:\n",
    "    df_nasdaq[f'nasdaq_{i}'] = df_nasdaq['NASDAQCOM'].pct_change(i)\n",
    "\n",
    "df_nasdaq = df_nasdaq[df_nasdaq['month'].str[-2:] == '11']\n",
    "df_nasdaq['year'] = df_nasdaq['month'].str[:4]\n",
    "df_nasdaq = df_nasdaq[['year'] + [f'nasdaq_{i}' for i in intervals]]"
   ]
  },
  {
   "cell_type": "code",
   "execution_count": 5,
   "metadata": {},
   "outputs": [],
   "source": [
    "df = pd.merge(left = df_nasdaq, right = df_spy, on = 'year', how = 'outer')\n",
    "df.to_csv('../processed_data/1971-2023-stocks.csv', index = False)"
   ]
  },
  {
   "cell_type": "code",
   "execution_count": null,
   "metadata": {},
   "outputs": [],
   "source": []
  }
 ],
 "metadata": {
  "kernelspec": {
   "display_name": "sprvs",
   "language": "python",
   "name": "python3"
  },
  "language_info": {
   "codemirror_mode": {
    "name": "ipython",
    "version": 3
   },
   "file_extension": ".py",
   "mimetype": "text/x-python",
   "name": "python",
   "nbconvert_exporter": "python",
   "pygments_lexer": "ipython3",
   "version": "3.12.3"
  }
 },
 "nbformat": 4,
 "nbformat_minor": 2
}
