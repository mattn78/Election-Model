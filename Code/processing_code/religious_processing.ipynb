{
 "cells": [
  {
   "cell_type": "code",
   "execution_count": 1,
   "metadata": {},
   "outputs": [],
   "source": [
    "import pandas as pd\n",
    "import requests\n",
    "import io"
   ]
  },
  {
   "cell_type": "code",
   "execution_count": 13,
   "metadata": {},
   "outputs": [],
   "source": [
    "years = [2016,2020]\n",
    "dfs = []\n",
    "\n",
    "for year in years:\n",
    "    r = requests.get(f'https://ava.prri.org/ajx_map.statesdata?category=religion&sc=1&year={year}&topic=religious')\n",
    "    df = pd.DataFrame(r.json()['states'][1:]).drop(columns = 'sort')\n",
    "    df.loc[:,'state'] = df['state'].str[3:]\n",
    "    df.loc[:,'year'] = year\n",
    "    df.loc[:,'white_evangelist_pct'] = df['percent'].astype('float')/100\n",
    "    df = df[['year', 'state', 'white_evangelist_pct']]\n",
    "    dfs.append(df)"
   ]
  },
  {
   "cell_type": "code",
   "execution_count": 15,
   "metadata": {},
   "outputs": [],
   "source": [
    "df = pd.concat(dfs, ignore_index = 'True')\n",
    "df.to_csv('./processed_data/2016-2020-religious.csv', index = False)"
   ]
  },
  {
   "cell_type": "code",
   "execution_count": null,
   "metadata": {},
   "outputs": [],
   "source": []
  }
 ],
 "metadata": {
  "kernelspec": {
   "display_name": "sprvs",
   "language": "python",
   "name": "python3"
  },
  "language_info": {
   "codemirror_mode": {
    "name": "ipython",
    "version": 3
   },
   "file_extension": ".py",
   "mimetype": "text/x-python",
   "name": "python",
   "nbconvert_exporter": "python",
   "pygments_lexer": "ipython3",
   "version": "3.12.3"
  }
 },
 "nbformat": 4,
 "nbformat_minor": 2
}
