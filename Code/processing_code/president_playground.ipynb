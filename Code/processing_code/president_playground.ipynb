{
 "cells": [
  {
   "cell_type": "code",
   "execution_count": 2,
   "metadata": {},
   "outputs": [],
   "source": [
    "import pandas as pd"
   ]
  },
  {
   "cell_type": "code",
   "execution_count": 3,
   "metadata": {},
   "outputs": [],
   "source": [
    "df = pd.read_csv('./source_data/1976-2020-president.csv')"
   ]
  },
  {
   "cell_type": "code",
   "execution_count": 4,
   "metadata": {},
   "outputs": [],
   "source": [
    "data = df[['year', 'state_po', 'candidate', 'candidatevotes', 'party_simplified']]\n",
    "data = data.rename(columns = {'state_po': 'state', 'candidatevotes': 'votes', 'party_simplified': 'party'})\n",
    "data = data.dropna()\n",
    "\n",
    "data = data.groupby(['year', 'state', 'candidate'])[['votes', 'party']]\\\n",
    "        .apply(lambda table: pd.Series({'votes' : table['votes'].sum(), \n",
    "                              'party': table.sort_values(by='votes', ascending = False)['party'].iloc[0]}))\\\n",
    "        .reset_index()\n",
    "\n",
    "data = data[data['candidate'] != 'PEROT, ROSS']\n",
    "data = data.groupby(['year', 'state'])[['candidate', 'party', 'votes']]\\\n",
    "                .apply(lambda table : table.sort_values(by = 'votes', ascending = False)[:2])\\\n",
    "                .reset_index()\\\n",
    "                .drop(columns = 'level_2')\n",
    "\n",
    "data = data.drop(columns = 'candidate')\n",
    "data = data.pivot(index = ['year', 'state'], columns = 'party', values = 'votes').reset_index()"
   ]
  },
  {
   "cell_type": "code",
   "execution_count": 6,
   "metadata": {},
   "outputs": [],
   "source": [
    "data['total'] = data['DEMOCRAT'] + data['REPUBLICAN']\n",
    "data['dem_pct'] = data['DEMOCRAT']/data['total']\n",
    "data['rep_pct'] = data['REPUBLICAN']/data['total']\n",
    "data = data[['year', 'state', 'dem_pct', 'rep_pct']]\n",
    "data.to_csv('./processed_data/1976-2020-president-two-party.csv', header = True, index = False)"
   ]
  },
  {
   "cell_type": "code",
   "execution_count": null,
   "metadata": {},
   "outputs": [],
   "source": []
  }
 ],
 "metadata": {
  "kernelspec": {
   "display_name": "sprvs",
   "language": "python",
   "name": "python3"
  },
  "language_info": {
   "codemirror_mode": {
    "name": "ipython",
    "version": 3
   },
   "file_extension": ".py",
   "mimetype": "text/x-python",
   "name": "python",
   "nbconvert_exporter": "python",
   "pygments_lexer": "ipython3",
   "version": "3.12.3"
  }
 },
 "nbformat": 4,
 "nbformat_minor": 2
}
