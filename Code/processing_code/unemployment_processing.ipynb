{
 "cells": [
  {
   "cell_type": "code",
   "execution_count": 2,
   "metadata": {},
   "outputs": [],
   "source": [
    "import pandas as pd\n",
    "import requests\n",
    "import io"
   ]
  },
  {
   "cell_type": "code",
   "execution_count": 4,
   "metadata": {},
   "outputs": [],
   "source": [
    "state_info = pd.read_csv('../source_data/state_info.csv', dtype = 'object')\n",
    "state_info = state_info.set_index('fips')\n",
    "dfs = []\n",
    "\n",
    "for fips,row in state_info.iterrows():\n",
    "    r = requests.get(f'https://fred.stlouisfed.org/graph/fredgraph.csv?id=LAUST{fips}0000000000003A')\n",
    "    df = pd.read_csv(io.BytesIO(r.content))\n",
    "    df['year'] = pd.to_datetime(df['DATE']).dt.year\n",
    "    df['unemployment_pct'] = df[f'LAUST{fips}0000000000003A']\n",
    "    df['state'] = row['state_po']\n",
    "    df = df[['year', 'state', 'unemployment_pct']]\n",
    "    dfs.append(df)\n",
    "\n",
    "all_data = pd.concat(dfs, axis = 0, ignore_index = True)\n",
    "all_data['unemployment_pct'] = all_data['unemployment_pct']/100\n",
    "all_data['unemployment_pct_1'] = all_data['unemployment_pct'].diff(1)\n",
    "all_data['unemployment_pct_4'] = all_data['unemployment_pct'].diff(4)\n",
    "all_data.to_csv('../processed_data/1976-2023-unemployment.csv', index = False, header = True)"
   ]
  },
  {
   "cell_type": "code",
   "execution_count": null,
   "metadata": {},
   "outputs": [],
   "source": []
  }
 ],
 "metadata": {
  "kernelspec": {
   "display_name": "sprvs",
   "language": "python",
   "name": "python3"
  },
  "language_info": {
   "codemirror_mode": {
    "name": "ipython",
    "version": 3
   },
   "file_extension": ".py",
   "mimetype": "text/x-python",
   "name": "python",
   "nbconvert_exporter": "python",
   "pygments_lexer": "ipython3",
   "version": "3.12.3"
  }
 },
 "nbformat": 4,
 "nbformat_minor": 2
}
