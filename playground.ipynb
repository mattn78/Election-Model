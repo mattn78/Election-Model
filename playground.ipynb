{
 "cells": [
  {
   "cell_type": "code",
   "execution_count": null,
   "metadata": {},
   "outputs": [
    {
     "ename": "",
     "evalue": "",
     "output_type": "error",
     "traceback": [
      "\u001b[1;31mRunning cells with 'Python 3.13.1' requires the ipykernel package.\n",
      "\u001b[1;31mRun the following command to install 'ipykernel' into the Python environment. \n",
      "\u001b[1;31mCommand: '/usr/local/bin/python3 -m pip install ipykernel -U --user --force-reinstall'"
     ]
    }
   ],
   "source": [
    "import pandas as pd\n",
    "from scipy.stats import linregress\n",
    "from scipy.stats import zscore\n",
    "import numpy as np\n",
    "import scipy.stats as stat"
   ]
  },
  {
   "cell_type": "code",
   "execution_count": null,
   "metadata": {},
   "outputs": [],
   "source": [
    "_all_df = pd.read_csv('all_data.csv')\n",
    "_all_df_logit = pd.read_csv('all_data_logit.csv')"
   ]
  },
  {
   "cell_type": "markdown",
   "metadata": {},
   "source": [
    "Here are the columns:"
   ]
  },
  {
   "cell_type": "code",
   "execution_count": null,
   "metadata": {},
   "outputs": [],
   "source": [
    "_all_df.columns"
   ]
  },
  {
   "cell_type": "markdown",
   "metadata": {},
   "source": [
    "If you want to filter the data set:"
   ]
  },
  {
   "cell_type": "code",
   "execution_count": null,
   "metadata": {},
   "outputs": [],
   "source": [
    "filter = (_all_df['year'] == _all_df['year']) #Do (_all_df['year'] == _all_df['year']) if you want no filtering\n",
    "#filter = (_all_df['year'] >= 2016) #These would filter to just the two most recent elections\n",
    "all_df = _all_df[filter]\n",
    "all_df_logit = _all_df_logit[filter]"
   ]
  },
  {
   "cell_type": "markdown",
   "metadata": {},
   "source": [
    "Plots and calculates R^2"
   ]
  },
  {
   "cell_type": "code",
   "execution_count": null,
   "metadata": {},
   "outputs": [],
   "source": [
    "remove_outliers = True\n",
    "outlier_z_thresh = 3\n",
    "\n",
    "x = 'bachelor_higher_pct'\n",
    "y = 'result'\n",
    "\n",
    "temp_df = all_df[[x,y]].dropna(axis = 0, how = 'any')\n",
    "if remove_outliers: temp_df = temp_df[(np.abs(zscore(temp_df)) < outlier_z_thresh).all(axis=1)]\n",
    "r2 = linregress(temp_df[x], temp_df[y]).rvalue**2\n",
    "print(f'r^2 without logit: {r2}')\n",
    "temp_df.plot.scatter(x,y)\n",
    "\n",
    "temp_df = all_df_logit[[x,y]].dropna(axis = 0, how = 'any')\n",
    "if remove_outliers: temp_df = temp_df[(np.abs(zscore(temp_df)) < outlier_z_thresh).all(axis=1)]\n",
    "r2 = linregress(temp_df[x], temp_df[y]).rvalue**2\n",
    "print(f'r^2 with logit: {r2}')\n",
    "temp_df.plot.scatter(x,y)\n",
    "\n",
    "_ = ''"
   ]
  },
  {
   "cell_type": "code",
   "execution_count": null,
   "metadata": {},
   "outputs": [],
   "source": [
    "from sklearn import linear_model as lm"
   ]
  },
  {
   "cell_type": "code",
   "execution_count": null,
   "metadata": {},
   "outputs": [],
   "source": [
    "remove_outliers = True\n",
    "outlier_z_thresh = 3\n",
    "\n",
    "x = ['bachelor_higher_pct', 'asian', 'unemployment_pct']\n",
    "y = 'result'\n",
    "\n",
    "\n",
    "temp_df = all_df[x + [y]].dropna(axis = 0, how = 'any')\n",
    "if remove_outliers: temp_df = temp_df[(np.abs(zscore(temp_df)) < outlier_z_thresh).all(axis=1)]\n",
    "model = lm.LinearRegression(fit_intercept=True)\n",
    "model.fit(temp_df[x],temp_df[y])\n",
    "r2 = model.score(X = temp_df[x], y = temp_df[y])\n",
    "print(f'r^2 without logit: {r2}')\n",
    "\n",
    "temp_df = all_df_logit[x + [y]].dropna(axis = 0, how = 'any')\n",
    "if remove_outliers: temp_df = temp_df[(np.abs(zscore(temp_df)) < outlier_z_thresh).all(axis=1)]\n",
    "model = lm.LinearRegression(fit_intercept=True)\n",
    "model.fit(temp_df[x],temp_df[y])\n",
    "r2 = model.score(X = temp_df[x], y = temp_df[y])\n",
    "print(f'r^2 without logit: {r2}')"
   ]
  },
  {
   "cell_type": "code",
   "execution_count": null,
   "metadata": {},
   "outputs": [],
   "source": [
    "remove_outliers = True\n",
    "outlier_z_thresh = 3\n",
    "\n",
    "x = ['white_evangelist_pct', 'asian', 'bachelor_higher_pct']\n",
    "y = 'result'\n",
    "\n",
    "\n",
    "temp_df = all_df[x + [y]].dropna(axis = 0, how = 'any')\n",
    "if remove_outliers: temp_df = temp_df[(np.abs(zscore(temp_df)) < outlier_z_thresh).all(axis=1)]\n",
    "model = lm.LinearRegression(fit_intercept=True)\n",
    "model.fit(temp_df[x],temp_df[y])\n",
    "r2 = model.score(X = temp_df[x], y = temp_df[y])\n",
    "print(f'r^2 without logit: {r2}')\n",
    "\n",
    "temp_df = all_df_logit[x + [y]].dropna(axis = 0, how = 'any')\n",
    "if remove_outliers: temp_df = temp_df[(np.abs(zscore(temp_df)) < outlier_z_thresh).all(axis=1)]\n",
    "model = lm.LinearRegression(fit_intercept=True)\n",
    "model.fit(temp_df[x],temp_df[y])\n",
    "r2 = model.score(X = temp_df[x], y = temp_df[y])\n",
    "print(f'r^2 without logit: {r2}')"
   ]
  },
  {
   "cell_type": "code",
   "execution_count": null,
   "metadata": {},
   "outputs": [
    {
     "ename": "",
     "evalue": "",
     "output_type": "error",
     "traceback": [
      "\u001b[1;31mRunning cells with 'Python 3.13.1' requires the ipykernel package.\n",
      "\u001b[1;31mRun the following command to install 'ipykernel' into the Python environment. \n",
      "\u001b[1;31mCommand: '/usr/local/bin/python3 -m pip install ipykernel -U --user --force-reinstall'"
     ]
    }
   ],
   "source": [
    "model = lm.LassoCV(fit_intercept= False)\n",
    "filter = (_all_df['year'] >= 2016) #Do (_all_df['year'] == _all_df['year']) if you want no filtering\n",
    "#filter = (_all_df['year'] >= 2016) #These would filter to just the two most recent elections\n",
    "all_df = _all_df[filter]\n",
    "temp_df = all_df_logit[['result'] + list(all_df.columns[5:])].dropna(axis = 1, how = 'all')\n",
    "temp_df = temp_df[temp_df.columns[~temp_df.columns.str.contains('senate')]].dropna(axis = 0, how = 'any')\n",
    "#temp_df = (temp_df - temp_df.mean())/temp_df.std()\n",
    "X = temp_df.iloc[:,1:]\n",
    "y = temp_df['result']\n",
    "model.fit(X, y)\n",
    "model.score(X,y)"
   ]
  },
  {
   "cell_type": "code",
   "execution_count": null,
   "metadata": {},
   "outputs": [],
   "source": []
  }
 ],
 "metadata": {
  "kernelspec": {
   "display_name": "Python 3",
   "language": "python",
   "name": "python3"
  },
  "language_info": {
   "codemirror_mode": {
    "name": "ipython",
    "version": 3
   },
   "file_extension": ".py",
   "mimetype": "text/x-python",
   "name": "python",
   "nbconvert_exporter": "python",
   "pygments_lexer": "ipython3",
   "version": "3.undefined.undefined"
  }
 },
 "nbformat": 4,
 "nbformat_minor": 2
}
